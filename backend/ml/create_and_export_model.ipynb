{
 "cells": [
  {
   "cell_type": "markdown",
   "metadata": {
    "id": "r-BiPL6MQepH"
   },
   "source": [
    "Code to create and deploy the ml model on the backend.\n",
    "\n",
    "Format and code taken from: https://www.tensorflow.org/tutorials/structured_data/time_series "
   ]
  },
  {
   "cell_type": "code",
   "execution_count": 1,
   "metadata": {},
   "outputs": [
    {
     "name": "stdout",
     "output_type": "stream",
     "text": [
      "Requirement already satisfied: tensorflow in /home/dryden/anaconda3/lib/python3.8/site-packages (2.9.0)\n",
      "Requirement already satisfied: protobuf>=3.9.2 in /home/dryden/anaconda3/lib/python3.8/site-packages (from tensorflow) (3.20.0)\n",
      "Requirement already satisfied: tensorboard<2.10,>=2.9 in /home/dryden/anaconda3/lib/python3.8/site-packages (from tensorflow) (2.9.0)\n",
      "Requirement already satisfied: gast<=0.4.0,>=0.2.1 in /home/dryden/anaconda3/lib/python3.8/site-packages (from tensorflow) (0.4.0)\n",
      "Requirement already satisfied: libclang>=13.0.0 in /home/dryden/anaconda3/lib/python3.8/site-packages (from tensorflow) (14.0.6)\n",
      "Requirement already satisfied: flatbuffers<2,>=1.12 in /home/dryden/anaconda3/lib/python3.8/site-packages (from tensorflow) (1.12)\n",
      "Requirement already satisfied: packaging in /home/dryden/anaconda3/lib/python3.8/site-packages (from tensorflow) (20.9)\n",
      "Requirement already satisfied: tensorflow-io-gcs-filesystem>=0.23.1 in /home/dryden/anaconda3/lib/python3.8/site-packages (from tensorflow) (0.26.0)\n",
      "Requirement already satisfied: keras<2.10.0,>=2.9.0rc0 in /home/dryden/anaconda3/lib/python3.8/site-packages (from tensorflow) (2.9.0)\n",
      "Requirement already satisfied: termcolor>=1.1.0 in /home/dryden/anaconda3/lib/python3.8/site-packages (from tensorflow) (1.1.0)\n",
      "Requirement already satisfied: wrapt>=1.11.0 in /home/dryden/anaconda3/lib/python3.8/site-packages (from tensorflow) (1.12.1)\n",
      "Requirement already satisfied: grpcio<2.0,>=1.24.3 in /home/dryden/anaconda3/lib/python3.8/site-packages (from tensorflow) (1.36.1)\n",
      "Requirement already satisfied: keras-preprocessing>=1.1.1 in /home/dryden/anaconda3/lib/python3.8/site-packages (from tensorflow) (1.1.2)\n",
      "Requirement already satisfied: typing-extensions>=3.6.6 in /home/dryden/anaconda3/lib/python3.8/site-packages (from tensorflow) (3.7.4.3)\n",
      "Requirement already satisfied: opt-einsum>=2.3.2 in /home/dryden/anaconda3/lib/python3.8/site-packages (from tensorflow) (3.3.0)\n",
      "Requirement already satisfied: numpy>=1.20 in /home/dryden/anaconda3/lib/python3.8/site-packages (from tensorflow) (1.20.1)\n",
      "Requirement already satisfied: astunparse>=1.6.0 in /home/dryden/anaconda3/lib/python3.8/site-packages (from tensorflow) (1.6.3)\n",
      "Requirement already satisfied: setuptools in /home/dryden/anaconda3/lib/python3.8/site-packages (from tensorflow) (52.0.0.post20210125)\n",
      "Requirement already satisfied: tensorflow-estimator<2.10.0,>=2.9.0rc0 in /home/dryden/anaconda3/lib/python3.8/site-packages (from tensorflow) (2.9.0)\n",
      "Requirement already satisfied: absl-py>=1.0.0 in /home/dryden/anaconda3/lib/python3.8/site-packages (from tensorflow) (1.2.0)\n",
      "Requirement already satisfied: six>=1.12.0 in /home/dryden/anaconda3/lib/python3.8/site-packages (from tensorflow) (1.15.0)\n",
      "Requirement already satisfied: h5py>=2.9.0 in /home/dryden/anaconda3/lib/python3.8/site-packages (from tensorflow) (2.10.0)\n",
      "Requirement already satisfied: google-pasta>=0.1.1 in /home/dryden/anaconda3/lib/python3.8/site-packages (from tensorflow) (0.2.0)\n",
      "Requirement already satisfied: wheel<1.0,>=0.23.0 in /home/dryden/anaconda3/lib/python3.8/site-packages (from astunparse>=1.6.0->tensorflow) (0.36.2)\n",
      "Requirement already satisfied: tensorboard-plugin-wit>=1.6.0 in /home/dryden/anaconda3/lib/python3.8/site-packages (from tensorboard<2.10,>=2.9->tensorflow) (1.6.0)\n",
      "Requirement already satisfied: requests<3,>=2.21.0 in /home/dryden/anaconda3/lib/python3.8/site-packages (from tensorboard<2.10,>=2.9->tensorflow) (2.25.1)\n",
      "Requirement already satisfied: google-auth<3,>=1.6.3 in /home/dryden/anaconda3/lib/python3.8/site-packages (from tensorboard<2.10,>=2.9->tensorflow) (1.21.3)\n",
      "Requirement already satisfied: tensorboard-data-server<0.7.0,>=0.6.0 in /home/dryden/anaconda3/lib/python3.8/site-packages (from tensorboard<2.10,>=2.9->tensorflow) (0.6.1)\n",
      "Requirement already satisfied: google-auth-oauthlib<0.5,>=0.4.1 in /home/dryden/anaconda3/lib/python3.8/site-packages (from tensorboard<2.10,>=2.9->tensorflow) (0.4.1)\n",
      "Requirement already satisfied: werkzeug>=1.0.1 in /home/dryden/anaconda3/lib/python3.8/site-packages (from tensorboard<2.10,>=2.9->tensorflow) (1.0.1)\n",
      "Requirement already satisfied: markdown>=2.6.8 in /home/dryden/anaconda3/lib/python3.8/site-packages (from tensorboard<2.10,>=2.9->tensorflow) (3.3.4)\n",
      "Requirement already satisfied: pyasn1-modules>=0.2.1 in /home/dryden/anaconda3/lib/python3.8/site-packages (from google-auth<3,>=1.6.3->tensorboard<2.10,>=2.9->tensorflow) (0.2.8)\n",
      "Requirement already satisfied: cachetools<5.0,>=2.0.0 in /home/dryden/anaconda3/lib/python3.8/site-packages (from google-auth<3,>=1.6.3->tensorboard<2.10,>=2.9->tensorflow) (4.2.2)\n",
      "Requirement already satisfied: rsa<5,>=3.1.4 in /home/dryden/anaconda3/lib/python3.8/site-packages (from google-auth<3,>=1.6.3->tensorboard<2.10,>=2.9->tensorflow) (4.7.2)\n",
      "Requirement already satisfied: requests-oauthlib>=0.7.0 in /home/dryden/anaconda3/lib/python3.8/site-packages (from google-auth-oauthlib<0.5,>=0.4.1->tensorboard<2.10,>=2.9->tensorflow) (1.3.0)\n",
      "Requirement already satisfied: pyasn1<0.5.0,>=0.4.6 in /home/dryden/anaconda3/lib/python3.8/site-packages (from pyasn1-modules>=0.2.1->google-auth<3,>=1.6.3->tensorboard<2.10,>=2.9->tensorflow) (0.4.8)\n",
      "Requirement already satisfied: chardet<5,>=3.0.2 in /home/dryden/anaconda3/lib/python3.8/site-packages (from requests<3,>=2.21.0->tensorboard<2.10,>=2.9->tensorflow) (4.0.0)\n",
      "Requirement already satisfied: certifi>=2017.4.17 in /home/dryden/anaconda3/lib/python3.8/site-packages (from requests<3,>=2.21.0->tensorboard<2.10,>=2.9->tensorflow) (2020.12.5)\n",
      "Requirement already satisfied: idna<3,>=2.5 in /home/dryden/anaconda3/lib/python3.8/site-packages (from requests<3,>=2.21.0->tensorboard<2.10,>=2.9->tensorflow) (2.10)\n",
      "Requirement already satisfied: urllib3<1.27,>=1.21.1 in /home/dryden/anaconda3/lib/python3.8/site-packages (from requests<3,>=2.21.0->tensorboard<2.10,>=2.9->tensorflow) (1.26.4)\n",
      "Requirement already satisfied: oauthlib>=3.0.0 in /home/dryden/anaconda3/lib/python3.8/site-packages (from requests-oauthlib>=0.7.0->google-auth-oauthlib<0.5,>=0.4.1->tensorboard<2.10,>=2.9->tensorflow) (3.2.0)\n",
      "Requirement already satisfied: pyparsing>=2.0.2 in /home/dryden/anaconda3/lib/python3.8/site-packages (from packaging->tensorflow) (2.4.7)\n",
      "Requirement already satisfied: tensorflowjs in /home/dryden/anaconda3/lib/python3.8/site-packages (3.19.0)\n",
      "Requirement already satisfied: tensorflow<3,>=2.1.0 in /home/dryden/anaconda3/lib/python3.8/site-packages (from tensorflowjs) (2.9.0)\n",
      "Requirement already satisfied: packaging~=20.9 in /home/dryden/anaconda3/lib/python3.8/site-packages (from tensorflowjs) (20.9)\n",
      "Requirement already satisfied: six<2,>=1.12.0 in /home/dryden/anaconda3/lib/python3.8/site-packages (from tensorflowjs) (1.15.0)\n",
      "Requirement already satisfied: tensorflow-hub<0.13,>=0.7.0 in /home/dryden/anaconda3/lib/python3.8/site-packages (from tensorflowjs) (0.12.0)\n",
      "Requirement already satisfied: protobuf==3.20.0 in /home/dryden/anaconda3/lib/python3.8/site-packages (from tensorflowjs) (3.20.0)\n",
      "Requirement already satisfied: pyparsing>=2.0.2 in /home/dryden/anaconda3/lib/python3.8/site-packages (from packaging~=20.9->tensorflowjs) (2.4.7)\n",
      "Requirement already satisfied: keras-preprocessing>=1.1.1 in /home/dryden/anaconda3/lib/python3.8/site-packages (from tensorflow<3,>=2.1.0->tensorflowjs) (1.1.2)\n",
      "Requirement already satisfied: astunparse>=1.6.0 in /home/dryden/anaconda3/lib/python3.8/site-packages (from tensorflow<3,>=2.1.0->tensorflowjs) (1.6.3)\n",
      "Requirement already satisfied: grpcio<2.0,>=1.24.3 in /home/dryden/anaconda3/lib/python3.8/site-packages (from tensorflow<3,>=2.1.0->tensorflowjs) (1.36.1)\n",
      "Requirement already satisfied: flatbuffers<2,>=1.12 in /home/dryden/anaconda3/lib/python3.8/site-packages (from tensorflow<3,>=2.1.0->tensorflowjs) (1.12)\n",
      "Requirement already satisfied: tensorflow-io-gcs-filesystem>=0.23.1 in /home/dryden/anaconda3/lib/python3.8/site-packages (from tensorflow<3,>=2.1.0->tensorflowjs) (0.26.0)\n",
      "Requirement already satisfied: setuptools in /home/dryden/anaconda3/lib/python3.8/site-packages (from tensorflow<3,>=2.1.0->tensorflowjs) (52.0.0.post20210125)\n",
      "Requirement already satisfied: tensorflow-estimator<2.10.0,>=2.9.0rc0 in /home/dryden/anaconda3/lib/python3.8/site-packages (from tensorflow<3,>=2.1.0->tensorflowjs) (2.9.0)\n",
      "Requirement already satisfied: tensorboard<2.10,>=2.9 in /home/dryden/anaconda3/lib/python3.8/site-packages (from tensorflow<3,>=2.1.0->tensorflowjs) (2.9.0)\n",
      "Requirement already satisfied: absl-py>=1.0.0 in /home/dryden/anaconda3/lib/python3.8/site-packages (from tensorflow<3,>=2.1.0->tensorflowjs) (1.2.0)\n",
      "Requirement already satisfied: libclang>=13.0.0 in /home/dryden/anaconda3/lib/python3.8/site-packages (from tensorflow<3,>=2.1.0->tensorflowjs) (14.0.6)\n",
      "Requirement already satisfied: keras<2.10.0,>=2.9.0rc0 in /home/dryden/anaconda3/lib/python3.8/site-packages (from tensorflow<3,>=2.1.0->tensorflowjs) (2.9.0)\n",
      "Requirement already satisfied: google-pasta>=0.1.1 in /home/dryden/anaconda3/lib/python3.8/site-packages (from tensorflow<3,>=2.1.0->tensorflowjs) (0.2.0)\n",
      "Requirement already satisfied: numpy>=1.20 in /home/dryden/anaconda3/lib/python3.8/site-packages (from tensorflow<3,>=2.1.0->tensorflowjs) (1.20.1)\n",
      "Requirement already satisfied: h5py>=2.9.0 in /home/dryden/anaconda3/lib/python3.8/site-packages (from tensorflow<3,>=2.1.0->tensorflowjs) (2.10.0)\n",
      "Requirement already satisfied: opt-einsum>=2.3.2 in /home/dryden/anaconda3/lib/python3.8/site-packages (from tensorflow<3,>=2.1.0->tensorflowjs) (3.3.0)\n",
      "Requirement already satisfied: wrapt>=1.11.0 in /home/dryden/anaconda3/lib/python3.8/site-packages (from tensorflow<3,>=2.1.0->tensorflowjs) (1.12.1)\n",
      "Requirement already satisfied: gast<=0.4.0,>=0.2.1 in /home/dryden/anaconda3/lib/python3.8/site-packages (from tensorflow<3,>=2.1.0->tensorflowjs) (0.4.0)\n",
      "Requirement already satisfied: termcolor>=1.1.0 in /home/dryden/anaconda3/lib/python3.8/site-packages (from tensorflow<3,>=2.1.0->tensorflowjs) (1.1.0)\n",
      "Requirement already satisfied: typing-extensions>=3.6.6 in /home/dryden/anaconda3/lib/python3.8/site-packages (from tensorflow<3,>=2.1.0->tensorflowjs) (3.7.4.3)\n",
      "Requirement already satisfied: wheel<1.0,>=0.23.0 in /home/dryden/anaconda3/lib/python3.8/site-packages (from astunparse>=1.6.0->tensorflow<3,>=2.1.0->tensorflowjs) (0.36.2)\n"
     ]
    },
    {
     "name": "stdout",
     "output_type": "stream",
     "text": [
      "Requirement already satisfied: google-auth<3,>=1.6.3 in /home/dryden/anaconda3/lib/python3.8/site-packages (from tensorboard<2.10,>=2.9->tensorflow<3,>=2.1.0->tensorflowjs) (1.21.3)\r\n",
      "Requirement already satisfied: markdown>=2.6.8 in /home/dryden/anaconda3/lib/python3.8/site-packages (from tensorboard<2.10,>=2.9->tensorflow<3,>=2.1.0->tensorflowjs) (3.3.4)\r\n",
      "Requirement already satisfied: tensorboard-plugin-wit>=1.6.0 in /home/dryden/anaconda3/lib/python3.8/site-packages (from tensorboard<2.10,>=2.9->tensorflow<3,>=2.1.0->tensorflowjs) (1.6.0)\r\n",
      "Requirement already satisfied: requests<3,>=2.21.0 in /home/dryden/anaconda3/lib/python3.8/site-packages (from tensorboard<2.10,>=2.9->tensorflow<3,>=2.1.0->tensorflowjs) (2.25.1)\r\n",
      "Requirement already satisfied: tensorboard-data-server<0.7.0,>=0.6.0 in /home/dryden/anaconda3/lib/python3.8/site-packages (from tensorboard<2.10,>=2.9->tensorflow<3,>=2.1.0->tensorflowjs) (0.6.1)\r\n",
      "Requirement already satisfied: werkzeug>=1.0.1 in /home/dryden/anaconda3/lib/python3.8/site-packages (from tensorboard<2.10,>=2.9->tensorflow<3,>=2.1.0->tensorflowjs) (1.0.1)\r\n",
      "Requirement already satisfied: google-auth-oauthlib<0.5,>=0.4.1 in /home/dryden/anaconda3/lib/python3.8/site-packages (from tensorboard<2.10,>=2.9->tensorflow<3,>=2.1.0->tensorflowjs) (0.4.1)\r\n",
      "Requirement already satisfied: cachetools<5.0,>=2.0.0 in /home/dryden/anaconda3/lib/python3.8/site-packages (from google-auth<3,>=1.6.3->tensorboard<2.10,>=2.9->tensorflow<3,>=2.1.0->tensorflowjs) (4.2.2)\r\n",
      "Requirement already satisfied: pyasn1-modules>=0.2.1 in /home/dryden/anaconda3/lib/python3.8/site-packages (from google-auth<3,>=1.6.3->tensorboard<2.10,>=2.9->tensorflow<3,>=2.1.0->tensorflowjs) (0.2.8)\r\n",
      "Requirement already satisfied: rsa<5,>=3.1.4 in /home/dryden/anaconda3/lib/python3.8/site-packages (from google-auth<3,>=1.6.3->tensorboard<2.10,>=2.9->tensorflow<3,>=2.1.0->tensorflowjs) (4.7.2)\r\n",
      "Requirement already satisfied: requests-oauthlib>=0.7.0 in /home/dryden/anaconda3/lib/python3.8/site-packages (from google-auth-oauthlib<0.5,>=0.4.1->tensorboard<2.10,>=2.9->tensorflow<3,>=2.1.0->tensorflowjs) (1.3.0)\r\n",
      "Requirement already satisfied: pyasn1<0.5.0,>=0.4.6 in /home/dryden/anaconda3/lib/python3.8/site-packages (from pyasn1-modules>=0.2.1->google-auth<3,>=1.6.3->tensorboard<2.10,>=2.9->tensorflow<3,>=2.1.0->tensorflowjs) (0.4.8)\r\n",
      "Requirement already satisfied: urllib3<1.27,>=1.21.1 in /home/dryden/anaconda3/lib/python3.8/site-packages (from requests<3,>=2.21.0->tensorboard<2.10,>=2.9->tensorflow<3,>=2.1.0->tensorflowjs) (1.26.4)\r\n",
      "Requirement already satisfied: chardet<5,>=3.0.2 in /home/dryden/anaconda3/lib/python3.8/site-packages (from requests<3,>=2.21.0->tensorboard<2.10,>=2.9->tensorflow<3,>=2.1.0->tensorflowjs) (4.0.0)\r\n",
      "Requirement already satisfied: idna<3,>=2.5 in /home/dryden/anaconda3/lib/python3.8/site-packages (from requests<3,>=2.21.0->tensorboard<2.10,>=2.9->tensorflow<3,>=2.1.0->tensorflowjs) (2.10)\r\n",
      "Requirement already satisfied: certifi>=2017.4.17 in /home/dryden/anaconda3/lib/python3.8/site-packages (from requests<3,>=2.21.0->tensorboard<2.10,>=2.9->tensorflow<3,>=2.1.0->tensorflowjs) (2020.12.5)\r\n",
      "Requirement already satisfied: oauthlib>=3.0.0 in /home/dryden/anaconda3/lib/python3.8/site-packages (from requests-oauthlib>=0.7.0->google-auth-oauthlib<0.5,>=0.4.1->tensorboard<2.10,>=2.9->tensorflow<3,>=2.1.0->tensorflowjs) (3.2.0)\r\n"
     ]
    }
   ],
   "source": [
    "# Install tensorflow to the user system\n",
    "!pip install tensorflow\n",
    "!pip install tensorflowjs"
   ]
  },
  {
   "cell_type": "code",
   "execution_count": 2,
   "metadata": {
    "id": "7rZnJaGTWQw0"
   },
   "outputs": [],
   "source": [
    "import os\n",
    "import datetime\n",
    "\n",
    "import IPython\n",
    "import IPython.display\n",
    "import matplotlib as mpl\n",
    "import matplotlib.pyplot as plt\n",
    "import numpy as np\n",
    "import pandas as pd\n",
    "import seaborn as sns\n",
    "import tensorflow as tf\n",
    "\n",
    "from itertools import product\n",
    "\n",
    "# Import util functions from util.py\n",
    "# Lots of the utils are from:\n",
    "# https://www.tensorflow.org/tutorials/structured_data/time_series\n",
    "from util import WindowGenerator\n",
    "from util import split_window\n",
    "from util import Baseline\n",
    "from util import make_dataset\n",
    "from util import compile_and_fit"
   ]
  },
  {
   "cell_type": "code",
   "execution_count": 3,
   "metadata": {
    "colab": {
     "base_uri": "https://localhost:8080/",
     "height": 206
    },
    "id": "ojHE-iCCWIhz",
    "outputId": "3302aef7-d8d4-44d3-9fad-0dda828e71c5"
   },
   "outputs": [
    {
     "data": {
      "text/html": [
       "<div>\n",
       "<style scoped>\n",
       "    .dataframe tbody tr th:only-of-type {\n",
       "        vertical-align: middle;\n",
       "    }\n",
       "\n",
       "    .dataframe tbody tr th {\n",
       "        vertical-align: top;\n",
       "    }\n",
       "\n",
       "    .dataframe thead th {\n",
       "        text-align: right;\n",
       "    }\n",
       "</style>\n",
       "<table border=\"1\" class=\"dataframe\">\n",
       "  <thead>\n",
       "    <tr style=\"text-align: right;\">\n",
       "      <th></th>\n",
       "      <th>Price</th>\n",
       "    </tr>\n",
       "  </thead>\n",
       "  <tbody>\n",
       "    <tr>\n",
       "      <th>0</th>\n",
       "      <td>297.9225</td>\n",
       "    </tr>\n",
       "    <tr>\n",
       "      <th>1</th>\n",
       "      <td>290.5300</td>\n",
       "    </tr>\n",
       "    <tr>\n",
       "      <th>2</th>\n",
       "      <td>292.9725</td>\n",
       "    </tr>\n",
       "    <tr>\n",
       "      <th>3</th>\n",
       "      <td>315.8775</td>\n",
       "    </tr>\n",
       "    <tr>\n",
       "      <th>4</th>\n",
       "      <td>276.3650</td>\n",
       "    </tr>\n",
       "  </tbody>\n",
       "</table>\n",
       "</div>"
      ],
      "text/plain": [
       "      Price\n",
       "0  297.9225\n",
       "1  290.5300\n",
       "2  292.9725\n",
       "3  315.8775\n",
       "4  276.3650"
      ]
     },
     "execution_count": 3,
     "metadata": {},
     "output_type": "execute_result"
    }
   ],
   "source": [
    "df = pd.read_csv(\"eth_price.csv\")\n",
    "\n",
    "df.columns =['EpochDate', 'Price']\n",
    "df.drop(columns=['EpochDate'], inplace=True)\n",
    "df.head()"
   ]
  },
  {
   "cell_type": "code",
   "execution_count": 4,
   "metadata": {
    "colab": {
     "base_uri": "https://localhost:8080/",
     "height": 269
    },
    "id": "Vg5XIc5tfNlG",
    "outputId": "510b0b48-9ac4-450b-fa7a-a612826874ec"
   },
   "outputs": [
    {
     "data": {
      "image/png": "[encoded data removed]",
      "text/plain": [
       "<Figure size 432x288 with 1 Axes>"
      ]
     },
     "metadata": {
      "needs_background": "light"
     },
     "output_type": "display_data"
    }
   ],
   "source": [
    "# view ETH price history\n",
    "# This price history should be over the last 5 ish years\n",
    "plot_cols = ['Price']\n",
    "plot_features = df[plot_cols]\n",
    "_ = plot_features.plot(subplots=True)"
   ]
  },
  {
   "cell_type": "code",
   "execution_count": 5,
   "metadata": {
    "id": "h510pgKVrrai"
   },
   "outputs": [],
   "source": [
    "df.describe().transpose()\n",
    "column_indices = {name: i for i, name in enumerate(df.columns)}\n",
    "\n",
    "# train on entire dataframe\n",
    "# only do this right before deployment\n",
    "# train_df = df\n",
    "\n",
    "n = len(df)\n",
    "train_df = df[0:int(n*0.7)]\n",
    "val_df = df[int(n*0.7):int(n*0.9)]\n",
    "test_df = df[int(n*0.9):]\n",
    "\n",
    "num_features = df.shape[1]"
   ]
  },
  {
   "cell_type": "code",
   "execution_count": 6,
   "metadata": {
    "colab": {
     "base_uri": "https://localhost:8080/"
    },
    "id": "Eji6njXvHusN",
    "outputId": "30456352-d1ff-46df-f36e-7548022d1c00"
   },
   "outputs": [
    {
     "name": "stdout",
     "output_type": "stream",
     "text": [
      "Price    83.5925\n",
      "dtype: float64\n",
      "Price    1369.69\n",
      "dtype: float64\n"
     ]
    }
   ],
   "source": [
    "train_min = train_df.min()\n",
    "train_max = train_df.max()\n",
    "\n",
    "train_df = (train_df - train_min) / train_max\n",
    "val_df = (val_df - train_min) / train_max\n",
    "test_df = (test_df - train_min) / train_max\n",
    "\n",
    "print(train_min)\n",
    "print(train_max)"
   ]
  },
  {
   "cell_type": "code",
   "execution_count": 7,
   "metadata": {
    "id": "35qoSQeRVfJg"
   },
   "outputs": [],
   "source": [
    "WindowGenerator.make_dataset = make_dataset"
   ]
  },
  {
   "cell_type": "code",
   "execution_count": 12,
   "metadata": {
    "id": "2jZ2KkqGCfzu"
   },
   "outputs": [],
   "source": [
    "@property\n",
    "def train(self):\n",
    "  return self.make_dataset(self.train_df)\n",
    "\n",
    "@property\n",
    "def val(self):\n",
    "  return self.make_dataset(self.val_df)\n",
    "\n",
    "@property\n",
    "def test(self):\n",
    "  return self.make_dataset(self.test_df)\n",
    "\n",
    "@property\n",
    "def example(self):\n",
    "  \"\"\"Get and cache an example batch of `inputs, labels` for plotting.\"\"\"\n",
    "  result = getattr(self, '_example', None)\n",
    "  if result is None:\n",
    "    # No example batch was found, so get one from the `.train` dataset\n",
    "    result = next(iter(self.train))\n",
    "    # And cache it for next time\n",
    "    self._example = result\n",
    "  return result\n",
    "\n",
    "WindowGenerator.train = train\n",
    "WindowGenerator.val = val\n",
    "WindowGenerator.test = test\n",
    "WindowGenerator.example = example\n",
    "WindowGenerator.split_window = split_window"
   ]
  },
  {
   "cell_type": "code",
   "execution_count": 13,
   "metadata": {
    "id": "IS3-QKc4sX0D"
   },
   "outputs": [],
   "source": [
    "baseline = Baseline(label_index=column_indices['Price'])\n",
    "\n",
    "baseline.compile(loss=tf.keras.losses.MeanSquaredError(),\n",
    "                 metrics=[tf.keras.metrics.MeanAbsoluteError()])"
   ]
  },
  {
   "cell_type": "code",
   "execution_count": 15,
   "metadata": {
    "colab": {
     "base_uri": "https://localhost:8080/"
    },
    "id": "C8jNR5uuJ5Zp",
    "outputId": "b61ec55e-6fed-4f79-f1e2-f4ce7af04cca"
   },
   "outputs": [
    {
     "data": {
      "text/plain": [
       "Total window size: 31\n",
       "Input indices: [ 0  1  2  3  4  5  6  7  8  9 10 11 12 13 14 15 16 17 18 19 20 21 22 23\n",
       " 24 25 26 27 28 29]\n",
       "Label indices: [30]\n",
       "Label column name(s): ['Price']"
      ]
     },
     "execution_count": 15,
     "metadata": {},
     "output_type": "execute_result"
    }
   ],
   "source": [
    "wide_window = WindowGenerator(\n",
    "    input_width=30, label_width=1, shift=1,\n",
    "    train_df=train_df, val_df=val_df, test_df=test_df,\n",
    "    label_columns=['Price'])\n",
    "\n",
    "wide_window"
   ]
  },
  {
   "cell_type": "code",
   "execution_count": 17,
   "metadata": {
    "id": "CbCL6VIrk-Gt",
    "scrolled": false
   },
   "outputs": [
    {
     "name": "stdout",
     "output_type": "stream",
     "text": [
      "Epoch 1/20\n",
      "1230/1230 [==============================] - 12s 8ms/step - loss: 0.0125 - mean_absolute_error: 0.0749 - val_loss: 2.5850 - val_mean_absolute_error: 1.4736\n",
      "Epoch 2/20\n",
      "1230/1230 [==============================] - 10s 8ms/step - loss: 0.0100 - mean_absolute_error: 0.0658 - val_loss: 2.4541 - val_mean_absolute_error: 1.4285\n",
      "Epoch 3/20\n",
      "1230/1230 [==============================] - 9s 8ms/step - loss: 0.0103 - mean_absolute_error: 0.0667 - val_loss: 2.4115 - val_mean_absolute_error: 1.4134\n",
      "Epoch 4/20\n",
      "1230/1230 [==============================] - 10s 8ms/step - loss: 0.0123 - mean_absolute_error: 0.0740 - val_loss: 2.4935 - val_mean_absolute_error: 1.4421\n",
      "Epoch 5/20\n",
      "1230/1230 [==============================] - 9s 8ms/step - loss: 0.0096 - mean_absolute_error: 0.0631 - val_loss: 2.4867 - val_mean_absolute_error: 1.4397\n",
      "[2.486661672592163, 1.439734697341919]\n",
      "Epoch 1/20\n",
      "1230/1230 [==============================] - 12s 8ms/step - loss: 0.0214 - mean_absolute_error: 0.1035 - val_loss: 3.2063 - val_mean_absolute_error: 1.6713\n",
      "Epoch 2/20\n",
      "1230/1230 [==============================] - 10s 8ms/step - loss: 0.0100 - mean_absolute_error: 0.0649 - val_loss: 3.3571 - val_mean_absolute_error: 1.7091\n",
      "Epoch 3/20\n",
      "1230/1230 [==============================] - 9s 8ms/step - loss: 0.0083 - mean_absolute_error: 0.0571 - val_loss: 3.2912 - val_mean_absolute_error: 1.6931\n",
      "[3.291228771209717, 1.6931358575820923]\n",
      "Epoch 1/20\n",
      "1230/1230 [==============================] - 12s 8ms/step - loss: 0.0286 - mean_absolute_error: 0.1211 - val_loss: 2.8629 - val_mean_absolute_error: 1.5663\n",
      "Epoch 2/20\n",
      "1230/1230 [==============================] - 9s 8ms/step - loss: 0.0115 - mean_absolute_error: 0.0690 - val_loss: 2.6332 - val_mean_absolute_error: 1.4914\n",
      "Epoch 3/20\n",
      "1230/1230 [==============================] - 9s 8ms/step - loss: 0.0095 - mean_absolute_error: 0.0608 - val_loss: 2.4936 - val_mean_absolute_error: 1.4445\n",
      "Epoch 4/20\n",
      "1230/1230 [==============================] - 10s 8ms/step - loss: 0.0087 - mean_absolute_error: 0.0572 - val_loss: 2.3902 - val_mean_absolute_error: 1.4091\n",
      "Epoch 5/20\n",
      "1230/1230 [==============================] - 9s 8ms/step - loss: 0.0081 - mean_absolute_error: 0.0553 - val_loss: 2.3318 - val_mean_absolute_error: 1.3893\n",
      "Epoch 6/20\n",
      "1230/1230 [==============================] - 9s 8ms/step - loss: 0.0078 - mean_absolute_error: 0.0544 - val_loss: 2.2694 - val_mean_absolute_error: 1.3671\n",
      "Epoch 7/20\n",
      "1230/1230 [==============================] - 9s 8ms/step - loss: 0.0075 - mean_absolute_error: 0.0528 - val_loss: 2.2552 - val_mean_absolute_error: 1.3633\n",
      "Epoch 8/20\n",
      "1230/1230 [==============================] - 10s 8ms/step - loss: 0.0073 - mean_absolute_error: 0.0517 - val_loss: 2.2313 - val_mean_absolute_error: 1.3554\n",
      "Epoch 9/20\n",
      "1230/1230 [==============================] - 10s 8ms/step - loss: 0.0071 - mean_absolute_error: 0.0509 - val_loss: 2.2157 - val_mean_absolute_error: 1.3502\n",
      "Epoch 10/20\n",
      "1230/1230 [==============================] - 10s 8ms/step - loss: 0.0070 - mean_absolute_error: 0.0502 - val_loss: 2.2024 - val_mean_absolute_error: 1.3453\n",
      "Epoch 11/20\n",
      "1230/1230 [==============================] - 10s 8ms/step - loss: 0.0068 - mean_absolute_error: 0.0496 - val_loss: 2.1726 - val_mean_absolute_error: 1.3337\n",
      "Epoch 12/20\n",
      "1230/1230 [==============================] - 10s 8ms/step - loss: 0.0068 - mean_absolute_error: 0.0490 - val_loss: 2.1938 - val_mean_absolute_error: 1.3417\n",
      "Epoch 13/20\n",
      "1230/1230 [==============================] - 10s 8ms/step - loss: 0.0066 - mean_absolute_error: 0.0484 - val_loss: 2.2079 - val_mean_absolute_error: 1.3460\n",
      "[2.207902669906616, 1.3459731340408325]\n",
      "Epoch 1/20\n",
      "1230/1230 [==============================] - 13s 9ms/step - loss: 0.0235 - mean_absolute_error: 0.1055 - val_loss: 2.7629 - val_mean_absolute_error: 1.5349\n",
      "Epoch 2/20\n",
      "1230/1230 [==============================] - 10s 8ms/step - loss: 0.0111 - mean_absolute_error: 0.0671 - val_loss: 2.5348 - val_mean_absolute_error: 1.4604\n",
      "Epoch 3/20\n",
      "1230/1230 [==============================] - 10s 8ms/step - loss: 0.0096 - mean_absolute_error: 0.0611 - val_loss: 2.4457 - val_mean_absolute_error: 1.4327\n",
      "Epoch 4/20\n",
      "1230/1230 [==============================] - 10s 8ms/step - loss: 0.0088 - mean_absolute_error: 0.0579 - val_loss: 2.3790 - val_mean_absolute_error: 1.4110\n",
      "Epoch 5/20\n",
      "1230/1230 [==============================] - 10s 8ms/step - loss: 0.0082 - mean_absolute_error: 0.0559 - val_loss: 2.3533 - val_mean_absolute_error: 1.4042\n",
      "Epoch 6/20\n",
      "1230/1230 [==============================] - 10s 8ms/step - loss: 0.0078 - mean_absolute_error: 0.0536 - val_loss: 2.3751 - val_mean_absolute_error: 1.4150\n",
      "Epoch 7/20\n",
      "1230/1230 [==============================] - 10s 8ms/step - loss: 0.0074 - mean_absolute_error: 0.0525 - val_loss: 2.4594 - val_mean_absolute_error: 1.4464\n",
      "[2.4593698978424072, 1.4463894367218018]\n",
      "Epoch 1/20\n",
      "1230/1230 [==============================] - 13s 9ms/step - loss: 0.0449 - mean_absolute_error: 0.1514 - val_loss: 4.4923 - val_mean_absolute_error: 2.0195\n",
      "Epoch 2/20\n",
      "1230/1230 [==============================] - 10s 8ms/step - loss: 0.0366 - mean_absolute_error: 0.1403 - val_loss: 4.4478 - val_mean_absolute_error: 2.0085\n",
      "Epoch 3/20\n",
      "1230/1230 [==============================] - 11s 9ms/step - loss: 0.0373 - mean_absolute_error: 0.1419 - val_loss: 4.4088 - val_mean_absolute_error: 1.9983\n",
      "Epoch 4/20\n",
      "1230/1230 [==============================] - 10s 8ms/step - loss: 0.0361 - mean_absolute_error: 0.1411 - val_loss: 4.3313 - val_mean_absolute_error: 1.9792\n",
      "Epoch 5/20\n",
      "1230/1230 [==============================] - 10s 8ms/step - loss: 0.0362 - mean_absolute_error: 0.1407 - val_loss: 4.3348 - val_mean_absolute_error: 1.9801\n",
      "Epoch 6/20\n",
      "1230/1230 [==============================] - 10s 8ms/step - loss: 0.0363 - mean_absolute_error: 0.1410 - val_loss: 4.4178 - val_mean_absolute_error: 2.0010\n",
      "[4.4178080558776855, 2.0009896755218506]\n",
      "Epoch 1/20\n",
      "1230/1230 [==============================] - 13s 8ms/step - loss: 0.0299 - mean_absolute_error: 0.1240 - val_loss: 3.3300 - val_mean_absolute_error: 1.7039\n",
      "Epoch 2/20\n",
      "1230/1230 [==============================] - 10s 8ms/step - loss: 0.0084 - mean_absolute_error: 0.0582 - val_loss: 2.9601 - val_mean_absolute_error: 1.5932\n",
      "Epoch 3/20\n",
      "1230/1230 [==============================] - 10s 8ms/step - loss: 0.0074 - mean_absolute_error: 0.0539 - val_loss: 2.8524 - val_mean_absolute_error: 1.5623\n",
      "Epoch 4/20\n",
      "1230/1230 [==============================] - 10s 8ms/step - loss: 0.0069 - mean_absolute_error: 0.0519 - val_loss: 2.9775 - val_mean_absolute_error: 1.6008\n",
      "Epoch 5/20\n",
      "1230/1230 [==============================] - 10s 8ms/step - loss: 0.0066 - mean_absolute_error: 0.0512 - val_loss: 2.8892 - val_mean_absolute_error: 1.5724\n",
      "[2.8891992568969727, 1.572350025177002]\n",
      "Epoch 1/20\n",
      "1230/1230 [==============================] - 13s 9ms/step - loss: 0.0427 - mean_absolute_error: 0.1593 - val_loss: 4.3092 - val_mean_absolute_error: 1.9735\n",
      "Epoch 2/20\n",
      "1230/1230 [==============================] - 10s 8ms/step - loss: 0.0353 - mean_absolute_error: 0.1403 - val_loss: 4.2866 - val_mean_absolute_error: 1.9682\n",
      "Epoch 3/20\n",
      "1230/1230 [==============================] - 10s 8ms/step - loss: 0.0349 - mean_absolute_error: 0.1396 - val_loss: 4.1936 - val_mean_absolute_error: 1.9465\n",
      "Epoch 4/20\n",
      "1230/1230 [==============================] - 10s 8ms/step - loss: 0.0208 - mean_absolute_error: 0.1005 - val_loss: 3.2192 - val_mean_absolute_error: 1.6548\n",
      "Epoch 5/20\n",
      "1230/1230 [==============================] - 10s 8ms/step - loss: 0.0083 - mean_absolute_error: 0.0560 - val_loss: 2.9548 - val_mean_absolute_error: 1.5751\n",
      "Epoch 6/20\n",
      "1230/1230 [==============================] - 10s 8ms/step - loss: 0.0072 - mean_absolute_error: 0.0511 - val_loss: 2.7200 - val_mean_absolute_error: 1.5016\n",
      "Epoch 7/20\n",
      "1230/1230 [==============================] - 10s 8ms/step - loss: 0.0067 - mean_absolute_error: 0.0490 - val_loss: 2.5802 - val_mean_absolute_error: 1.4560\n",
      "Epoch 8/20\n",
      "1230/1230 [==============================] - 10s 8ms/step - loss: 0.0064 - mean_absolute_error: 0.0478 - val_loss: 2.4961 - val_mean_absolute_error: 1.4302\n",
      "Epoch 9/20\n"
     ]
    },
    {
     "name": "stdout",
     "output_type": "stream",
     "text": [
      "1230/1230 [==============================] - 10s 8ms/step - loss: 0.0061 - mean_absolute_error: 0.0471 - val_loss: 2.4092 - val_mean_absolute_error: 1.4058\n",
      "Epoch 10/20\n",
      "1230/1230 [==============================] - 10s 8ms/step - loss: 0.0058 - mean_absolute_error: 0.0457 - val_loss: 2.3291 - val_mean_absolute_error: 1.3918\n",
      "Epoch 11/20\n",
      "1230/1230 [==============================] - 10s 8ms/step - loss: 0.0056 - mean_absolute_error: 0.0451 - val_loss: 2.4703 - val_mean_absolute_error: 1.4469\n",
      "Epoch 12/20\n",
      "1230/1230 [==============================] - 10s 8ms/step - loss: 0.0056 - mean_absolute_error: 0.0450 - val_loss: 2.4744 - val_mean_absolute_error: 1.4538\n",
      "[2.474362373352051, 1.4537816047668457]\n",
      "Epoch 1/20\n",
      "1230/1230 [==============================] - 13s 8ms/step - loss: 0.0208 - mean_absolute_error: 0.0955 - val_loss: 2.3608 - val_mean_absolute_error: 1.4020\n",
      "Epoch 2/20\n",
      "1230/1230 [==============================] - 10s 8ms/step - loss: 0.0096 - mean_absolute_error: 0.0605 - val_loss: 2.2922 - val_mean_absolute_error: 1.3791\n",
      "Epoch 3/20\n",
      "1230/1230 [==============================] - 10s 8ms/step - loss: 0.0083 - mean_absolute_error: 0.0555 - val_loss: 2.2638 - val_mean_absolute_error: 1.3693\n",
      "Epoch 4/20\n",
      "1230/1230 [==============================] - 10s 8ms/step - loss: 0.0077 - mean_absolute_error: 0.0528 - val_loss: 2.2423 - val_mean_absolute_error: 1.3611\n",
      "Epoch 5/20\n",
      "1230/1230 [==============================] - 10s 9ms/step - loss: 0.0074 - mean_absolute_error: 0.0515 - val_loss: 2.2147 - val_mean_absolute_error: 1.3503\n",
      "Epoch 6/20\n",
      "1230/1230 [==============================] - 10s 8ms/step - loss: 0.0070 - mean_absolute_error: 0.0506 - val_loss: 2.2229 - val_mean_absolute_error: 1.3532\n",
      "Epoch 7/20\n",
      "1230/1230 [==============================] - 10s 8ms/step - loss: 0.0068 - mean_absolute_error: 0.0493 - val_loss: 2.2172 - val_mean_absolute_error: 1.3506\n",
      "[2.217162609100342, 1.350585699081421]\n",
      "Epoch 1/20\n",
      "1230/1230 [==============================] - 13s 9ms/step - loss: 0.0367 - mean_absolute_error: 0.1408 - val_loss: 4.2345 - val_mean_absolute_error: 1.9546\n",
      "Epoch 2/20\n",
      "1230/1230 [==============================] - 10s 8ms/step - loss: 0.0655 - mean_absolute_error: 0.1847 - val_loss: 5.0632 - val_mean_absolute_error: 2.1562\n",
      "Epoch 3/20\n",
      "1230/1230 [==============================] - 11s 9ms/step - loss: 0.0587 - mean_absolute_error: 0.1713 - val_loss: 4.3972 - val_mean_absolute_error: 1.9958\n",
      "[4.397193431854248, 1.9958328008651733]\n",
      "Epoch 1/20\n",
      "1230/1230 [==============================] - 13s 9ms/step - loss: 0.0264 - mean_absolute_error: 0.1145 - val_loss: 3.2891 - val_mean_absolute_error: 1.6978\n",
      "Epoch 2/20\n",
      "1230/1230 [==============================] - 11s 9ms/step - loss: 0.0151 - mean_absolute_error: 0.0854 - val_loss: 3.1603 - val_mean_absolute_error: 1.6597\n",
      "Epoch 3/20\n",
      "1230/1230 [==============================] - 11s 9ms/step - loss: 0.0130 - mean_absolute_error: 0.0765 - val_loss: 3.1610 - val_mean_absolute_error: 1.6575\n",
      "Epoch 4/20\n",
      "1230/1230 [==============================] - 10s 8ms/step - loss: 0.0129 - mean_absolute_error: 0.0766 - val_loss: 3.2104 - val_mean_absolute_error: 1.6726\n",
      "[3.2104432582855225, 1.6726199388504028]\n",
      "Epoch 1/20\n",
      "1230/1230 [==============================] - 13s 9ms/step - loss: 0.0415 - mean_absolute_error: 0.1556 - val_loss: 4.2546 - val_mean_absolute_error: 1.9595\n",
      "Epoch 2/20\n",
      "1230/1230 [==============================] - 10s 8ms/step - loss: 0.0355 - mean_absolute_error: 0.1408 - val_loss: 4.2690 - val_mean_absolute_error: 1.9635\n",
      "Epoch 3/20\n",
      "1230/1230 [==============================] - 10s 8ms/step - loss: 0.0351 - mean_absolute_error: 0.1400 - val_loss: 4.2382 - val_mean_absolute_error: 1.9560\n",
      "Epoch 4/20\n",
      "1230/1230 [==============================] - 10s 8ms/step - loss: 0.0316 - mean_absolute_error: 0.1320 - val_loss: 3.5876 - val_mean_absolute_error: 1.7808\n",
      "Epoch 5/20\n",
      "1230/1230 [==============================] - 10s 8ms/step - loss: 0.0123 - mean_absolute_error: 0.0738 - val_loss: 3.0858 - val_mean_absolute_error: 1.6349\n",
      "Epoch 6/20\n",
      "1230/1230 [==============================] - 10s 8ms/step - loss: 0.0088 - mean_absolute_error: 0.0593 - val_loss: 2.8368 - val_mean_absolute_error: 1.5573\n",
      "Epoch 7/20\n",
      "1230/1230 [==============================] - 10s 8ms/step - loss: 0.0075 - mean_absolute_error: 0.0537 - val_loss: 2.7069 - val_mean_absolute_error: 1.5149\n",
      "Epoch 8/20\n",
      "1230/1230 [==============================] - 10s 8ms/step - loss: 0.0068 - mean_absolute_error: 0.0521 - val_loss: 2.5831 - val_mean_absolute_error: 1.4733\n",
      "Epoch 9/20\n",
      "1230/1230 [==============================] - 10s 8ms/step - loss: 0.0065 - mean_absolute_error: 0.0511 - val_loss: 2.4530 - val_mean_absolute_error: 1.4284\n",
      "Epoch 10/20\n",
      "1230/1230 [==============================] - 10s 8ms/step - loss: 0.0068 - mean_absolute_error: 0.0514 - val_loss: 2.4155 - val_mean_absolute_error: 1.4160\n",
      "Epoch 11/20\n",
      "1230/1230 [==============================] - 10s 8ms/step - loss: 0.0062 - mean_absolute_error: 0.0495 - val_loss: 2.3432 - val_mean_absolute_error: 1.3904\n",
      "Epoch 12/20\n",
      "1230/1230 [==============================] - 10s 9ms/step - loss: 0.0065 - mean_absolute_error: 0.0499 - val_loss: 2.3198 - val_mean_absolute_error: 1.3789\n",
      "Epoch 13/20\n",
      "1230/1230 [==============================] - 10s 8ms/step - loss: 0.0063 - mean_absolute_error: 0.0479 - val_loss: 2.3664 - val_mean_absolute_error: 1.3970\n",
      "Epoch 14/20\n",
      "1230/1230 [==============================] - 10s 8ms/step - loss: 0.0060 - mean_absolute_error: 0.0479 - val_loss: 2.4090 - val_mean_absolute_error: 1.4135\n",
      "[2.4089837074279785, 1.413483738899231]\n",
      "Epoch 1/20\n",
      "1230/1230 [==============================] - 13s 9ms/step - loss: 0.0412 - mean_absolute_error: 0.1563 - val_loss: 4.3256 - val_mean_absolute_error: 1.9776\n",
      "Epoch 2/20\n",
      "1230/1230 [==============================] - 10s 8ms/step - loss: 0.0352 - mean_absolute_error: 0.1403 - val_loss: 4.3300 - val_mean_absolute_error: 1.9789\n",
      "Epoch 3/20\n",
      "1230/1230 [==============================] - 11s 9ms/step - loss: 0.0349 - mean_absolute_error: 0.1396 - val_loss: 4.3145 - val_mean_absolute_error: 1.9751\n",
      "Epoch 4/20\n",
      "1230/1230 [==============================] - 11s 9ms/step - loss: 0.0349 - mean_absolute_error: 0.1394 - val_loss: 4.3151 - val_mean_absolute_error: 1.9755\n",
      "Epoch 5/20\n",
      "1230/1230 [==============================] - 11s 9ms/step - loss: 0.0343 - mean_absolute_error: 0.1380 - val_loss: 3.1580 - val_mean_absolute_error: 1.6598\n",
      "Epoch 6/20\n",
      "1230/1230 [==============================] - 11s 9ms/step - loss: 0.0108 - mean_absolute_error: 0.0694 - val_loss: 2.8665 - val_mean_absolute_error: 1.5551\n",
      "Epoch 7/20\n",
      "1230/1230 [==============================] - 11s 9ms/step - loss: 0.0074 - mean_absolute_error: 0.0530 - val_loss: 2.7319 - val_mean_absolute_error: 1.5114\n",
      "Epoch 8/20\n",
      "1230/1230 [==============================] - 11s 9ms/step - loss: 0.0066 - mean_absolute_error: 0.0493 - val_loss: 2.6238 - val_mean_absolute_error: 1.4721\n",
      "Epoch 9/20\n",
      "1230/1230 [==============================] - 11s 9ms/step - loss: 0.0063 - mean_absolute_error: 0.0482 - val_loss: 2.6064 - val_mean_absolute_error: 1.4586\n",
      "Epoch 10/20\n",
      "1230/1230 [==============================] - 11s 9ms/step - loss: 0.0060 - mean_absolute_error: 0.0473 - val_loss: 2.7360 - val_mean_absolute_error: 1.4979\n",
      "Epoch 11/20\n",
      "1230/1230 [==============================] - 11s 9ms/step - loss: 0.0057 - mean_absolute_error: 0.0461 - val_loss: 2.7422 - val_mean_absolute_error: 1.5066\n",
      "[2.7422032356262207, 1.5066018104553223]\n",
      "Epoch 1/20\n",
      "1230/1230 [==============================] - 14s 9ms/step - loss: 0.0373 - mean_absolute_error: 0.1413 - val_loss: 4.3627 - val_mean_absolute_error: 1.9900\n",
      "Epoch 2/20\n",
      "1230/1230 [==============================] - 11s 9ms/step - loss: 0.0381 - mean_absolute_error: 0.1412 - val_loss: 4.5851 - val_mean_absolute_error: 2.0435\n",
      "Epoch 3/20\n",
      "1230/1230 [==============================] - 11s 9ms/step - loss: 0.0361 - mean_absolute_error: 0.1391 - val_loss: 4.3380 - val_mean_absolute_error: 1.9810\n",
      "Epoch 4/20\n",
      "1230/1230 [==============================] - 11s 9ms/step - loss: 0.0363 - mean_absolute_error: 0.1397 - val_loss: 4.1848 - val_mean_absolute_error: 1.9419\n",
      "Epoch 5/20\n"
     ]
    },
    {
     "name": "stdout",
     "output_type": "stream",
     "text": [
      "1230/1230 [==============================] - 11s 9ms/step - loss: 0.0364 - mean_absolute_error: 0.1399 - val_loss: 4.1762 - val_mean_absolute_error: 1.9397\n",
      "Epoch 6/20\n",
      "1230/1230 [==============================] - 11s 9ms/step - loss: 0.0383 - mean_absolute_error: 0.1433 - val_loss: 4.2938 - val_mean_absolute_error: 1.9692\n",
      "Epoch 7/20\n",
      "1230/1230 [==============================] - 11s 9ms/step - loss: 0.0365 - mean_absolute_error: 0.1392 - val_loss: 4.2009 - val_mean_absolute_error: 1.9463\n",
      "[4.200883865356445, 1.9462594985961914]\n",
      "Epoch 1/20\n",
      "1230/1230 [==============================] - 14s 9ms/step - loss: 0.0194 - mean_absolute_error: 0.0916 - val_loss: 2.8358 - val_mean_absolute_error: 1.5564\n",
      "Epoch 2/20\n",
      "1230/1230 [==============================] - 11s 9ms/step - loss: 0.0074 - mean_absolute_error: 0.0542 - val_loss: 2.8608 - val_mean_absolute_error: 1.5645\n",
      "Epoch 3/20\n",
      "1230/1230 [==============================] - 11s 9ms/step - loss: 0.0075 - mean_absolute_error: 0.0538 - val_loss: 2.6300 - val_mean_absolute_error: 1.4894\n",
      "Epoch 4/20\n",
      "1230/1230 [==============================] - 11s 9ms/step - loss: 0.0071 - mean_absolute_error: 0.0520 - val_loss: 2.6533 - val_mean_absolute_error: 1.4928\n",
      "Epoch 5/20\n",
      "1230/1230 [==============================] - 11s 9ms/step - loss: 0.0075 - mean_absolute_error: 0.0538 - val_loss: 3.4438 - val_mean_absolute_error: 1.7410\n",
      "[3.443798065185547, 1.7410030364990234]\n",
      "Epoch 1/20\n",
      "1230/1230 [==============================] - 13s 9ms/step - loss: 0.0174 - mean_absolute_error: 0.0832 - val_loss: 2.2514 - val_mean_absolute_error: 1.3692\n",
      "Epoch 2/20\n",
      "1230/1230 [==============================] - 11s 9ms/step - loss: 0.0083 - mean_absolute_error: 0.0567 - val_loss: 2.2702 - val_mean_absolute_error: 1.3736\n",
      "Epoch 3/20\n",
      "1230/1230 [==============================] - 11s 9ms/step - loss: 0.0074 - mean_absolute_error: 0.0526 - val_loss: 2.2765 - val_mean_absolute_error: 1.3745\n",
      "[2.2765002250671387, 1.374523401260376]\n",
      "Epoch 1/20\n",
      "1230/1230 [==============================] - 14s 9ms/step - loss: 0.0173 - mean_absolute_error: 0.0853 - val_loss: 2.3728 - val_mean_absolute_error: 1.4089\n",
      "Epoch 2/20\n",
      "1230/1230 [==============================] - 11s 9ms/step - loss: 0.0083 - mean_absolute_error: 0.0557 - val_loss: 2.2472 - val_mean_absolute_error: 1.3573\n",
      "Epoch 3/20\n",
      "1230/1230 [==============================] - 11s 9ms/step - loss: 0.0074 - mean_absolute_error: 0.0518 - val_loss: 2.2686 - val_mean_absolute_error: 1.3633\n",
      "Epoch 4/20\n",
      "1230/1230 [==============================] - 11s 9ms/step - loss: 0.0069 - mean_absolute_error: 0.0500 - val_loss: 2.3604 - val_mean_absolute_error: 1.3922\n",
      "[2.3603949546813965, 1.3921717405319214]\n"
     ]
    }
   ],
   "source": [
    "# Here we do a hyperparameter sweep over some parameters to decide what are the best to deploy on our server\n",
    "results = {}\n",
    "models = {}\n",
    "\n",
    "NUM_EPOCHS = 20\n",
    "hidden_dimensionalities = [8, 16, 32, 64]\n",
    "learning_rates = [0.1, 0.01, 0.001, 0.001]\n",
    "\n",
    "for dims, lr in product(hidden_dimensionalities, learning_rates):\n",
    "    curr_model = tf.keras.models.Sequential([\n",
    "      # Shape [batch, time, features] => [batch, time, lstm_units]\n",
    "      tf.keras.layers.LSTM(dims, return_sequences=True),\n",
    "      tf.keras.layers.LSTM(dims, return_sequences=True),\n",
    "      # Shape => [batch, time, features]\n",
    "      tf.keras.layers.Dense(units=1),\n",
    "      tf.keras.layers.Dense(1, activation='sigmoid')\n",
    "    ])\n",
    "    history = compile_and_fit(curr_model, wide_window, learning_rate=lr)\n",
    "    \n",
    "    val_results = curr_model.evaluate(wide_window.val, verbose=0)\n",
    "    print(val_results)\n",
    "    results[str(dims) + \"_\" + str(lr)] = val_results\n",
    "    models[str(dims) + \"_\" + str(lr)] = tf.keras.models.clone_model(curr_model)"
   ]
  },
  {
   "cell_type": "code",
   "execution_count": 21,
   "metadata": {
    "colab": {
     "base_uri": "https://localhost:8080/",
     "height": 1000
    },
    "id": "k0KbiJiQiI4Z",
    "outputId": "1410b297-e631-40ed-ae3f-899b513a7465"
   },
   "outputs": [
    {
     "name": "stdout",
     "output_type": "stream",
     "text": [
      "Best model parameters 64_0.001\n",
      "Best model losses [2.3603949546813965, 1.3921717405319214]\n",
      "WARNING:tensorflow:Compiled the loaded model, but the compiled metrics have yet to be built. `model.compile_metrics` will be empty until you train or evaluate the model.\n"
     ]
    }
   ],
   "source": [
    "# save the best model to a format that is compatible with tensorflow.js\n",
    "import tensorflowjs as tfjs\n",
    "\n",
    "best = 1e9\n",
    "best_model = \"\"\n",
    "\n",
    "for name, value in results.items():\n",
    "    if value[1] < best:\n",
    "        best_model = name\n",
    "\n",
    "print(\"Best model parameters\", best_model)\n",
    "print(\"Best model losses\", results[best_model])\n",
    "        \n",
    "tfjs.converters.save_keras_model(models[best_model], '.')"
   ]
  },
  {
   "cell_type": "code",
   "execution_count": 32,
   "metadata": {
    "colab": {
     "base_uri": "https://localhost:8080/"
    },
    "id": "Lv-uFPeq0ugX",
    "outputId": "e59da6b0-a947-401b-cacc-b58d6b2d00b8"
   },
   "outputs": [
    {
     "name": "stdout",
     "output_type": "stream",
     "text": [
      "(1, 30, 1) tf.Tensor(\n",
      "[[[0.08293108]\n",
      "  [0.23115587]\n",
      "  [0.38831043]\n",
      "  [0.4343667 ]\n",
      "  [0.5442924 ]\n",
      "  [0.2427277 ]\n",
      "  [0.64442   ]\n",
      "  [0.43104926]\n",
      "  [0.6461305 ]\n",
      "  [0.6604145 ]\n",
      "  [0.7439412 ]\n",
      "  [0.79530346]\n",
      "  [0.03090052]\n",
      "  [0.08831307]\n",
      "  [0.39816737]\n",
      "  [0.56551474]\n",
      "  [0.51097906]\n",
      "  [0.38713175]\n",
      "  [0.5474659 ]\n",
      "  [0.47446454]\n",
      "  [0.63347876]\n",
      "  [0.6672974 ]\n",
      "  [0.742015  ]\n",
      "  [0.7948834 ]\n",
      "  [0.25864428]\n",
      "  [0.74223614]\n",
      "  [0.6587051 ]\n",
      "  [0.7507498 ]\n",
      "  [0.80320585]\n",
      "  [0.8263015 ]]], shape=(1, 30, 1), dtype=float32)\n"
     ]
    }
   ],
   "source": [
    "# View output on a dummy input\n",
    "# \n",
    "a = np.array([\n",
    "    0.1, 0.2, 0.3, 0.4, 0.5, 0.3, 0.4, 0.5, 0.6, 0.7, 0.8, 0.9, 0.1, 0.2, 0.3,\n",
    "    0.4, 0.5, 0.3, 0.4, 0.5, 0.6, 0.7, 0.8, 0.9, 0.5, 0.6, 0.7, 0.8, 0.9, 0.91,])\n",
    "\n",
    "a = np.expand_dims(a, axis=1)\n",
    "a = a.reshape(-1, 30, 1)\n",
    "\n",
    "b = tf.constant(a)\n",
    "print(b.shape, lstm_model(b))"
   ]
  }
 ],
 "metadata": {
  "accelerator": "GPU",
  "colab": {
   "collapsed_sections": [],
   "name": "Copy of time_series.ipynb",
   "provenance": []
  },
  "kernelspec": {
   "display_name": "Python 3",
   "language": "python",
   "name": "python3"
  },
  "language_info": {
   "codemirror_mode": {
    "name": "ipython",
    "version": 3
   },
   "file_extension": ".py",
   "mimetype": "text/x-python",
   "name": "python",
   "nbconvert_exporter": "python",
   "pygments_lexer": "ipython3",
   "version": "3.8.8"
  }
 },
 "nbformat": 4,
 "nbformat_minor": 1
}
