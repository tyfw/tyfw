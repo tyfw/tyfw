{
 "cells": [
  {
   "cell_type": "markdown",
   "metadata": {
    "id": "r-BiPL6MQepH"
   },
   "source": [
    "Code to create and deploy the ml model on the backend. The data comes from ml.js and the time series data is created once on the backend. Make sure that eth_prices.csv is available in the directory of this script.\n",
    "\n",
    "Format and code taken from: https://www.tensorflow.org/tutorials/structured_data/time_series "
   ]
  },
  {
   "cell_type": "code",
   "execution_count": 3,
   "metadata": {},
   "outputs": [],
   "source": [
    "%%capture installs\n",
    "# Install tensorflow to the user system\n",
    "!pip install tensorflow\n",
    "!pip install tensorflowjs\n",
    "!pip install numpy"
   ]
  },
  {
   "cell_type": "code",
   "execution_count": 4,
   "metadata": {
    "id": "7rZnJaGTWQw0"
   },
   "outputs": [],
   "source": [
    "%%capture imports\n",
    "import os\n",
    "import datetime\n",
    "\n",
    "import matplotlib as mpl\n",
    "import matplotlib.pyplot as plt\n",
    "import numpy as np\n",
    "import pandas as pd\n",
    "import seaborn as sns\n",
    "import tensorflow as tf\n",
    "\n",
    "# for hyperparameter selection\n",
    "from itertools import product\n",
    "\n",
    "# Import util functions from util.py\n",
    "# Lots of the utils are from:\n",
    "# https://www.tensorflow.org/tutorials/structured_data/time_series\n",
    "from util import WindowGenerator\n",
    "from util import split_window\n",
    "from util import Baseline\n",
    "from util import make_dataset\n",
    "from util import compile_and_fit"
   ]
  },
  {
   "cell_type": "code",
   "execution_count": 5,
   "metadata": {
    "colab": {
     "base_uri": "https://localhost:8080/",
     "height": 206
    },
    "id": "ojHE-iCCWIhz",
    "outputId": "3302aef7-d8d4-44d3-9fad-0dda828e71c5"
   },
   "outputs": [
    {
     "data": {
      "text/html": [
       "<div>\n",
       "<style scoped>\n",
       "    .dataframe tbody tr th:only-of-type {\n",
       "        vertical-align: middle;\n",
       "    }\n",
       "\n",
       "    .dataframe tbody tr th {\n",
       "        vertical-align: top;\n",
       "    }\n",
       "\n",
       "    .dataframe thead th {\n",
       "        text-align: right;\n",
       "    }\n",
       "</style>\n",
       "<table border=\"1\" class=\"dataframe\">\n",
       "  <thead>\n",
       "    <tr style=\"text-align: right;\">\n",
       "      <th></th>\n",
       "      <th>Price</th>\n",
       "    </tr>\n",
       "  </thead>\n",
       "  <tbody>\n",
       "    <tr>\n",
       "      <th>0</th>\n",
       "      <td>297.9225</td>\n",
       "    </tr>\n",
       "    <tr>\n",
       "      <th>1</th>\n",
       "      <td>290.5300</td>\n",
       "    </tr>\n",
       "    <tr>\n",
       "      <th>2</th>\n",
       "      <td>292.9725</td>\n",
       "    </tr>\n",
       "    <tr>\n",
       "      <th>3</th>\n",
       "      <td>315.8775</td>\n",
       "    </tr>\n",
       "    <tr>\n",
       "      <th>4</th>\n",
       "      <td>276.3650</td>\n",
       "    </tr>\n",
       "  </tbody>\n",
       "</table>\n",
       "</div>"
      ],
      "text/plain": [
       "      Price\n",
       "0  297.9225\n",
       "1  290.5300\n",
       "2  292.9725\n",
       "3  315.8775\n",
       "4  276.3650"
      ]
     },
     "execution_count": 5,
     "metadata": {},
     "output_type": "execute_result"
    }
   ],
   "source": [
    "# read and show the dataframe o fprices\n",
    "df = pd.read_csv(\"eth_price.csv\")\n",
    "\n",
    "df.columns =['EpochDate', 'Price']\n",
    "df.drop(columns=['EpochDate'], inplace=True)\n",
    "df.head()"
   ]
  },
  {
   "cell_type": "code",
   "execution_count": 6,
   "metadata": {
    "colab": {
     "base_uri": "https://localhost:8080/",
     "height": 269
    },
    "id": "Vg5XIc5tfNlG",
    "outputId": "510b0b48-9ac4-450b-fa7a-a612826874ec"
   },
   "outputs": [
    {
     "data": {
      "image/png": "[encoded data removed]",
      "text/plain": [
       "<Figure size 432x288 with 1 Axes>"
      ]
     },
     "metadata": {
      "needs_background": "light"
     },
     "output_type": "display_data"
    }
   ],
   "source": [
    "# view ETH price history\n",
    "# This price history should be over the last 5 ish years\n",
    "plot_cols = ['Price']\n",
    "plot_features = df[plot_cols]\n",
    "_ = plot_features.plot(subplots=True)"
   ]
  },
  {
   "cell_type": "code",
   "execution_count": 7,
   "metadata": {
    "id": "h510pgKVrrai"
   },
   "outputs": [],
   "source": [
    "df.describe().transpose()\n",
    "column_indices = {name: i for i, name in enumerate(df.columns)}\n",
    "\n",
    "# train on entire dataframe\n",
    "# only do this if we are not validating with train/test set etc...\n",
    "# train_df = df\n",
    "\n",
    "n = len(df)\n",
    "train_df = df[0:int(n*0.7)]\n",
    "val_df = df[int(n*0.7):int(n*0.9)]\n",
    "test_df = df[int(n*0.9):]\n",
    "\n",
    "num_features = df.shape[1]"
   ]
  },
  {
   "cell_type": "code",
   "execution_count": 8,
   "metadata": {
    "colab": {
     "base_uri": "https://localhost:8080/"
    },
    "id": "Eji6njXvHusN",
    "outputId": "30456352-d1ff-46df-f36e-7548022d1c00"
   },
   "outputs": [
    {
     "name": "stdout",
     "output_type": "stream",
     "text": [
      "train_min Price    83.5925\n",
      "dtype: float64\n",
      "train_max Price    1369.69\n",
      "dtype: float64\n"
     ]
    }
   ],
   "source": [
    "train_min = train_df.min()\n",
    "train_max = train_df.max()\n",
    "\n",
    "train_df = (train_df - train_min) / train_max\n",
    "val_df = (val_df - train_min) / train_max\n",
    "test_df = (test_df - train_min) / train_max\n",
    "\n",
    "# Give this to the backend\n",
    "print(\"train_min\", train_min)\n",
    "print(\"train_max\", train_max)"
   ]
  },
  {
   "cell_type": "code",
   "execution_count": 10,
   "metadata": {
    "id": "2jZ2KkqGCfzu"
   },
   "outputs": [],
   "source": [
    "@property\n",
    "def train(self):\n",
    "  return self.make_dataset(self.train_df)\n",
    "\n",
    "@property\n",
    "def val(self):\n",
    "  return self.make_dataset(self.val_df)\n",
    "\n",
    "@property\n",
    "def test(self):\n",
    "  return self.make_dataset(self.test_df)\n",
    "\n",
    "@property\n",
    "def example(self):\n",
    "  \"\"\"Get and cache an example batch of `inputs, labels` for plotting.\"\"\"\n",
    "  result = getattr(self, '_example', None)\n",
    "  if result is None:\n",
    "    # No example batch was found, so get one from the `.train` dataset\n",
    "    result = next(iter(self.train))\n",
    "    # And cache it for next time\n",
    "    self._example = result\n",
    "  return result\n",
    "\n",
    "# setup the window generator for the time series\n",
    "# this is taken from the tutorial\n",
    "\n",
    "WindowGenerator.make_dataset = make_dataset\n",
    "\n",
    "WindowGenerator.train = train\n",
    "WindowGenerator.val = val\n",
    "WindowGenerator.test = test\n",
    "WindowGenerator.example = example\n",
    "WindowGenerator.split_window = split_window"
   ]
  },
  {
   "cell_type": "code",
   "execution_count": 11,
   "metadata": {
    "colab": {
     "base_uri": "https://localhost:8080/"
    },
    "id": "C8jNR5uuJ5Zp",
    "outputId": "b61ec55e-6fed-4f79-f1e2-f4ce7af04cca"
   },
   "outputs": [
    {
     "data": {
      "text/plain": [
       "Total window size: 31\n",
       "Input indices: [ 0  1  2  3  4  5  6  7  8  9 10 11 12 13 14 15 16 17 18 19 20 21 22 23\n",
       " 24 25 26 27 28 29]\n",
       "Label indices: [30]\n",
       "Label column name(s): ['Price']"
      ]
     },
     "execution_count": 11,
     "metadata": {},
     "output_type": "execute_result"
    }
   ],
   "source": [
    "wide_window = WindowGenerator(\n",
    "    input_width=30, label_width=1, shift=1,\n",
    "    train_df=train_df, val_df=val_df, test_df=test_df,\n",
    "    label_columns=['Price'])\n",
    "\n",
    "wide_window"
   ]
  },
  {
   "cell_type": "code",
   "execution_count": 14,
   "metadata": {
    "id": "CbCL6VIrk-Gt",
    "scrolled": false
   },
   "outputs": [],
   "source": [
    "%%capture training\n",
    "# Here we do a hyperparameter sweep over some parameters to decide what are the best to deploy on our server\n",
    "results = {}\n",
    "models = {}\n",
    "\n",
    "NUM_EPOCHS = 20\n",
    "hidden_dimensionalities = [16, 32, 64]\n",
    "learning_rates = [0.01, 0.001, 0.001]\n",
    "num_lstm_layers = [1, 2, 3]\n",
    "\n",
    "for dims, lr, lstm_layers in product(hidden_dimensionalities, learning_rates, num_lstm_layers):\n",
    "    # Shape [batch, time, features] => [batch, time, lstm_units]\n",
    "    model_def = [tf.keras.layers.LSTM(dims, return_sequences=True) for x in range(lstm_layers)]\n",
    "    # Shape => [batch, time, features]\n",
    "    model_def.append(tf.keras.layers.Dense(units=1))\n",
    "    # Shape => [batch, time, features]\n",
    "    model_def.append(tf.keras.layers.Dense(1, activation='sigmoid'))\n",
    "    \n",
    "    curr_model = tf.keras.models.Sequential(model_def)\n",
    "    history = compile_and_fit(curr_model, wide_window, learning_rate=lr)\n",
    "    \n",
    "    val_results = curr_model.evaluate(wide_window.val, verbose=0)\n",
    "    print(val_results)\n",
    "    results[str(dims) + \"_\" + str(lr) + \"_\" + str(lstm_layers)] = val_results\n",
    "    models[str(dims) + \"_\" + str(lr) + \"_\" + str(lstm_layers)] = tf.keras.models.clone_model(curr_model)"
   ]
  },
  {
   "cell_type": "code",
   "execution_count": 15,
   "metadata": {},
   "outputs": [
    {
     "name": "stdout",
     "output_type": "stream",
     "text": [
      "16_0.01_1 [2.2205536365509033, 1.3588273525238037]\n",
      "16_0.01_2 [2.6717171669006348, 1.501379370689392]\n",
      "16_0.01_3 [2.8535871505737305, 1.5616440773010254]\n",
      "16_0.001_1 [1.9618191719055176, 1.2664132118225098]\n",
      "16_0.001_2 [2.355273962020874, 1.408608078956604]\n",
      "16_0.001_3 [2.92671537399292, 1.5673598051071167]\n",
      "32_0.01_1 [2.0221800804138184, 1.28415048122406]\n",
      "32_0.01_2 [2.7426984310150146, 1.5277411937713623]\n",
      "32_0.01_3 [2.7534801959991455, 1.5271846055984497]\n",
      "32_0.001_1 [1.8515903949737549, 1.2190459966659546]\n",
      "32_0.001_2 [2.3423264026641846, 1.3908814191818237]\n",
      "32_0.001_3 [2.457423210144043, 1.430108904838562]\n",
      "64_0.01_1 [2.128962278366089, 1.3263336420059204]\n",
      "64_0.01_2 [3.097827196121216, 1.6357624530792236]\n",
      "64_0.01_3 [3.3257834911346436, 1.7063405513763428]\n",
      "64_0.001_1 [1.919879674911499, 1.245208740234375]\n",
      "64_0.001_2 [2.174424886703491, 1.3208011388778687]\n",
      "64_0.001_3 [2.2502453327178955, 1.361010193824768]\n"
     ]
    }
   ],
   "source": [
    "# print out all of the model results\n",
    "# lower is better on the validation set for this metric\n",
    "for name, item in results.items():\n",
    "    print(name, item)"
   ]
  },
  {
   "cell_type": "code",
   "execution_count": 16,
   "metadata": {
    "colab": {
     "base_uri": "https://localhost:8080/",
     "height": 1000
    },
    "id": "k0KbiJiQiI4Z",
    "outputId": "1410b297-e631-40ed-ae3f-899b513a7465"
   },
   "outputs": [
    {
     "name": "stdout",
     "output_type": "stream",
     "text": [
      "Best model parameters 64_0.001_3\n",
      "Best model losses [2.2502453327178955, 1.361010193824768]\n"
     ]
    }
   ],
   "source": [
    "# save the best model to a format that is compatible with tensorflow.js\n",
    "import tensorflowjs as tfjs\n",
    "\n",
    "# aribitrary large value\n",
    "best = 1e9\n",
    "best_model = \"\"\n",
    "\n",
    "for name, value in results.items():\n",
    "    if value[1] < best:\n",
    "        best_model = name\n",
    "\n",
    "print(\"Best model parameters\", best_model)\n",
    "print(\"Best model losses\", results[best_model])\n",
    "        \n",
    "tfjs.converters.save_keras_model(models[best_model], '.')"
   ]
  },
  {
   "cell_type": "code",
   "execution_count": 18,
   "metadata": {
    "colab": {
     "base_uri": "https://localhost:8080/"
    },
    "id": "Lv-uFPeq0ugX",
    "outputId": "e59da6b0-a947-401b-cacc-b58d6b2d00b8"
   },
   "outputs": [
    {
     "name": "stdout",
     "output_type": "stream",
     "text": [
      "(1, 30, 1) tf.Tensor(\n",
      "[[[0.49996275]\n",
      "  [0.4998761 ]\n",
      "  [0.49973947]\n",
      "  [0.4995572 ]\n",
      "  [0.49933562]\n",
      "  [0.49908164]\n",
      "  [0.4988019 ]\n",
      "  [0.4985026 ]\n",
      "  [0.49818933]\n",
      "  [0.49786672]\n",
      "  [0.49753875]\n",
      "  [0.49720857]\n",
      "  [0.49687862]\n",
      "  [0.49655077]\n",
      "  [0.4962262 ]\n",
      "  [0.49590585]\n",
      "  [0.49559003]\n",
      "  [0.49527904]\n",
      "  [0.4949728 ]\n",
      "  [0.49467114]\n",
      "  [0.4943738 ]\n",
      "  [0.49408045]\n",
      "  [0.49379078]\n",
      "  [0.49350435]\n",
      "  [0.49322087]\n",
      "  [0.49294007]\n",
      "  [0.49266154]\n",
      "  [0.4923851 ]\n",
      "  [0.4921105 ]\n",
      "  [0.4918375 ]]], shape=(1, 30, 1), dtype=float32)\n"
     ]
    }
   ],
   "source": [
    "# View output on a dummy input\n",
    "# \n",
    "a = np.array([\n",
    "    0.11, 0.12, 0.13, 0.14, 0.15, 0.16, 0.17, 0.18, 0.19, 0.2, 0.21, 0.22, 0.23, 0.24, 0.25,\n",
    "    0.26, 0.27, 0.28, 0.29, 0.3, 0.31, 0.32, 0.33, 0.34, 0.35, 0.36, 0.37, 0.38, 0.39, 0.4,])\n",
    "\n",
    "a = np.expand_dims(a, axis=1)\n",
    "a = a.reshape(-1, 30, 1)\n",
    "\n",
    "b = tf.constant(a)\n",
    "print(b.shape, models[best_model](b))"
   ]
  },
  {
   "cell_type": "code",
   "execution_count": null,
   "metadata": {},
   "outputs": [],
   "source": []
  }
 ],
 "metadata": {
  "accelerator": "GPU",
  "colab": {
   "collapsed_sections": [],
   "name": "Copy of time_series.ipynb",
   "provenance": []
  },
  "kernelspec": {
   "display_name": "Python 3",
   "language": "python",
   "name": "python3"
  },
  "language_info": {
   "codemirror_mode": {
    "name": "ipython",
    "version": 3
   },
   "file_extension": ".py",
   "mimetype": "text/x-python",
   "name": "python",
   "nbconvert_exporter": "python",
   "pygments_lexer": "ipython3",
   "version": "3.8.8"
  }
 },
 "nbformat": 4,
 "nbformat_minor": 1
}
